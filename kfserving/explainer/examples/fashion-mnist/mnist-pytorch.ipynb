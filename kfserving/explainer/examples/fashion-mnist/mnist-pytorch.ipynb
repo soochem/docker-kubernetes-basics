{
 "cells": [
  {
   "cell_type": "markdown",
   "metadata": {},
   "source": [
    "# Anchor explanations for fashion MNIST"
   ]
  },
  {
   "cell_type": "code",
   "execution_count": 1,
   "metadata": {},
   "outputs": [],
   "source": [
    "import alibi"
   ]
  },
  {
   "cell_type": "code",
   "execution_count": 2,
   "metadata": {},
   "outputs": [],
   "source": [
    "import matplotlib\n",
    "%matplotlib inline\n",
    "import matplotlib.pyplot as plt\n",
    "import numpy as np\n",
    "import torch\n",
    "from torchvision import datasets, transforms\n",
    "# import helper\n",
    "from alibi.explainers import AnchorImage"
   ]
  },
  {
   "cell_type": "markdown",
   "metadata": {},
   "source": [
    "### Load and prepare fashion MNIST data"
   ]
  },
  {
   "cell_type": "code",
   "execution_count": 45,
   "metadata": {},
   "outputs": [
    {
     "name": "stdout",
     "output_type": "stream",
     "text": [
      "x_train shape: Dataset FashionMNIST\n",
      "    Number of datapoints: 60000\n",
      "    Root location: data/fashion_mnist\n",
      "    Split: Train\n",
      "    StandardTransform\n",
      "Transform: Compose(\n",
      "               ToTensor()\n",
      "               Normalize(mean=(0.5,), std=(0.5,))\n",
      "           )\n"
     ]
    }
   ],
   "source": [
    "# Define a transform to normalize the data\n",
    "transform = transforms.Compose([transforms.ToTensor(),\n",
    "                                transforms.Normalize((0.5,), (0.5,))])\n",
    "# Download and load the training data\n",
    "trainset = datasets.FashionMNIST('data/fashion_mnist', download=True, train=True, transform=transform)\n",
    "train_loader = torch.utils.data.DataLoader(trainset, batch_size=64, shuffle=True)\n",
    "\n",
    "# Download and load the test data\n",
    "testset = datasets.FashionMNIST('data/fashion_mnist', download=True, train=False, transform=transform)\n",
    "test_loader = torch.utils.data.DataLoader(testset, batch_size=64, shuffle=True)\n",
    "\n",
    "print('x_train shape:', trainset)"
   ]
  },
  {
   "cell_type": "code",
   "execution_count": 240,
   "metadata": {},
   "outputs": [
    {
     "data": {
      "text/plain": [
       "<matplotlib.image.AxesImage at 0x7f92ec6d16d8>"
      ]
     },
     "execution_count": 240,
     "metadata": {},
     "output_type": "execute_result"
    },
    {
     "data": {
      "image/png": "[encoded data removed]",
      "text/plain": [
       "<Figure size 432x288 with 1 Axes>"
      ]
     },
     "metadata": {
      "needs_background": "light"
     },
     "output_type": "display_data"
    }
   ],
   "source": [
    "idx = 0\n",
    "plt.imshow(trainset.data[idx])"
   ]
  },
  {
   "cell_type": "markdown",
   "metadata": {},
   "source": [
    "Scale, reshape and categorize data"
   ]
  },
  {
   "cell_type": "code",
   "execution_count": 47,
   "metadata": {},
   "outputs": [],
   "source": [
    "# x_train = x_train.astype('float32') / 255\n",
    "# x_test = x_test.astype('float32') / 255\n",
    "# x_train = np.reshape(x_train, x_train.shape + (1,))\n",
    "# x_test = np.reshape(x_test, x_test.shape + (1,))\n",
    "# print('x_train shape:', x_train.shape, 'x_test shape:', x_test.shape)\n",
    "# y_train = to_categorical(y_train)\n",
    "# y_test = to_categorical(y_test)\n",
    "# print('y_train shape:', y_train.shape, 'y_test shape:', y_test.shape)"
   ]
  },
  {
   "cell_type": "markdown",
   "metadata": {},
   "source": [
    "### Define CNN model"
   ]
  },
  {
   "cell_type": "code",
   "execution_count": 211,
   "metadata": {},
   "outputs": [],
   "source": [
    "import torch.nn as nn\n",
    "import torch.nn.functional as F\n",
    "\n",
    "class CNN(nn.Module):\n",
    "    def __init__(self):\n",
    "        super().__init__()\n",
    "        self.conv1 = nn.Conv2d(1, 64, kernel_size=3, padding=1)\n",
    "        self.conv2 = nn.Conv2d(64, 32, kernel_size=5, padding=0)\n",
    "        self.pool = nn.MaxPool2d(2, 2)\n",
    "        self.fc1 = nn.Linear(32*5*5, 256)  # max pool 두 번\n",
    "        self.fc2 = nn.Linear(256, 128)\n",
    "        self.fc3 = nn.Linear(128, 10)\n",
    "        self.dropout1 = nn.Dropout(0.3)\n",
    "        self.dropout2 = nn.Dropout(0.5)\n",
    "        \n",
    "    def forward(self, x):\n",
    "        print(x.shape)\n",
    "        x = self.pool(F.relu(self.conv1(x)))\n",
    "        x = self.dropout1(x)\n",
    "        x = self.pool(F.relu(self.conv2(x)))\n",
    "        x = self.dropout1(x)\n",
    "        x = x.view(-1, 32*5*5)\n",
    "        x = F.relu(self.fc1(x))\n",
    "        x = F.relu(self.fc2(x))\n",
    "        x = F.relu(self.dropout2(x))\n",
    "        x = F.relu(self.fc3(x))\n",
    "#         x = F.softmax(x)\n",
    "\n",
    "        return x"
   ]
  },
  {
   "cell_type": "code",
   "execution_count": 212,
   "metadata": {},
   "outputs": [],
   "source": [
    "cnn = CNN()"
   ]
  },
  {
   "cell_type": "markdown",
   "metadata": {},
   "source": [
    "### Train model"
   ]
  },
  {
   "cell_type": "code",
   "execution_count": 137,
   "metadata": {},
   "outputs": [],
   "source": [
    "import torch.optim as optim\n",
    "\n",
    "learning_rate = 0.003\n",
    "criterion = torch.nn.CrossEntropyLoss()\n",
    "optimizer = optim.Adam(cnn.parameters(), lr=learning_rate)"
   ]
  },
  {
   "cell_type": "code",
   "execution_count": 170,
   "metadata": {},
   "outputs": [
    {
     "name": "stdout",
     "output_type": "stream",
     "text": [
      "EPOCH 1/5\n",
      "Train loss: 0.376\n",
      "\n",
      "EPOCH 2/5\n",
      "Train loss: 0.361\n",
      "\n",
      "EPOCH 3/5\n",
      "Train loss: 0.344\n",
      "\n",
      "EPOCH 4/5\n",
      "Train loss: 0.341\n",
      "\n",
      "EPOCH 5/5\n",
      "Train loss: 0.336\n",
      "\n"
     ]
    }
   ],
   "source": [
    "epochs = 5\n",
    "\n",
    "for e in range(epochs):\n",
    "    train_loss = 0.\n",
    "    train_accuracy = 0.\n",
    "    \n",
    "    for images, labels in train_loader:\n",
    "        \n",
    "#         print(images.shape) #[16, 1, 28, 28]\n",
    "        output = cnn(images)\n",
    "#         print(labels.shape) #[64]\n",
    "#         print(output.shape) #[64,10]\n",
    "        loss = criterion(output, labels)\n",
    "        \n",
    "        # 가중치 갱신 후에는 수동으로 변화도를 0으로 만듭니다.\n",
    "        optimizer.zero_grad()\n",
    "        loss.backward()\n",
    "        # All optimizers implement a step() method, that updates the parameters\n",
    "        optimizer.step()\n",
    "        \n",
    "        train_loss += loss.item()\n",
    "    \n",
    "    print(\"EPOCH {}/{}\".format(e+1, epochs))\n",
    "    print(\"Train loss: {0:.3f}\".format(train_loss / len(train_loader)))\n",
    "#     print(\"Train accuracy: .3f\".format(train_accuracy / len(train_loader)))\n",
    "    print()"
   ]
  },
  {
   "cell_type": "code",
   "execution_count": 171,
   "metadata": {},
   "outputs": [
    {
     "name": "stdout",
     "output_type": "stream",
     "text": [
      "EPOCH 5/5\n",
      "Test loss: 0.395\n",
      "Test accuracy: 55.146\n",
      "\n"
     ]
    }
   ],
   "source": [
    "# Evaluate the model on test set\n",
    "\n",
    "with torch.no_grad():\n",
    "    test_loss = 0.\n",
    "    test_accuracy = 0.\n",
    "    \n",
    "    for images, labels in test_loader:\n",
    "\n",
    "        output = cnn(images)\n",
    "        _, indices = torch.max(output, 1) # values, indices\n",
    "        loss = criterion(output, labels)\n",
    "        test_loss += loss.item()\n",
    "        test_accuracy += sum(indices==labels)\n",
    "\n",
    "    print(\"EPOCH {}/{}\".format(e+1, epochs))\n",
    "    print(\"Test loss: {0:.3f}\".format(test_loss / len(test_loader)))\n",
    "    print(\"Test accuracy: {0:.3f}\".format(test_accuracy / len(test_loader)))\n",
    "    print()"
   ]
  },
  {
   "cell_type": "code",
   "execution_count": 162,
   "metadata": {},
   "outputs": [
    {
     "data": {
      "text/plain": [
       "torch.return_types.max(\n",
       "values=tensor([16.6622, 13.3272,  9.8706, 32.0185, 25.4913, 11.8525, 11.1652, 23.4591,\n",
       "        15.8951, 30.0439, 14.8189, 17.2794, 15.9507,  8.3540,  5.7180, 24.4420,\n",
       "         7.3967,  9.3746,  5.2222, 17.0821, 14.4423, 24.5838, 13.9770, 10.0608,\n",
       "         8.1193, 28.1792,  4.6691,  9.3532, 10.0274,  9.4668,  7.9000, 10.9974],\n",
       "       grad_fn=<MaxBackward0>),\n",
       "indices=tensor([4, 8, 3, 7, 3, 2, 4, 8, 7, 9, 8, 9, 0, 2, 0, 3, 5, 4, 4, 5, 2, 8, 0, 5,\n",
       "        0, 5, 3, 0, 5, 0, 3, 9]))"
      ]
     },
     "execution_count": 162,
     "metadata": {},
     "output_type": "execute_result"
    }
   ],
   "source": [
    "torch.max(output, 1)"
   ]
  },
  {
   "cell_type": "markdown",
   "metadata": {},
   "source": [
    "### Define superpixels\n",
    "\n",
    "Function to generate rectangular superpixels for a given image. Alternatively, use one of the built in methods. It is important to have meaningful superpixels in order to generate a useful explanation. Please check scikit-image's [segmentation methods](http://scikit-image.org/docs/dev/api/skimage.segmentation.html) (*felzenszwalb*, *slic* and *quickshift* built in the explainer) for more information on the built in methods."
   ]
  },
  {
   "cell_type": "code",
   "execution_count": 199,
   "metadata": {},
   "outputs": [],
   "source": [
    "images, label = next(iter(train_loader))\n",
    "sample_image = images"
   ]
  },
  {
   "cell_type": "code",
   "execution_count": 177,
   "metadata": {},
   "outputs": [],
   "source": [
    "def superpixel(image, size=(4, 7)):\n",
    "    segments = np.zeros([image.shape[0], image.shape[1]])\n",
    "    row_idx, col_idx = np.where(segments == 0)\n",
    "    for i, j in zip(row_idx, col_idx):\n",
    "        segments[i, j] = int((image.shape[1]/size[1]) * (i//size[0]) + j//size[1])\n",
    "    return segments"
   ]
  },
  {
   "cell_type": "code",
   "execution_count": 178,
   "metadata": {},
   "outputs": [
    {
     "data": {
      "image/png": "[encoded data removed]",
      "text/plain": [
       "<Figure size 432x288 with 1 Axes>"
      ]
     },
     "metadata": {
      "needs_background": "light"
     },
     "output_type": "display_data"
    }
   ],
   "source": [
    "segments = superpixel(sample_image)\n",
    "plt.imshow(segments);"
   ]
  },
  {
   "cell_type": "markdown",
   "metadata": {},
   "source": [
    "### Define prediction function"
   ]
  },
  {
   "cell_type": "code",
   "execution_count": 202,
   "metadata": {},
   "outputs": [],
   "source": [
    "# predict_fn = lambda x: cnn.predict(x)\n",
    "predict_fn = lambda x: cnn(x)"
   ]
  },
  {
   "cell_type": "code",
   "execution_count": 222,
   "metadata": {},
   "outputs": [
    {
     "name": "stdout",
     "output_type": "stream",
     "text": [
      "torch.Size([64, 1, 28, 28])\n"
     ]
    },
    {
     "data": {
      "text/plain": [
       "tensor([[0.0000, 0.0000, 0.0113, 0.1008, 0.1127, 0.0000, 0.0864, 0.0000, 0.0037,\n",
       "         0.0181],\n",
       "        [0.0000, 0.0000, 0.0000, 0.0684, 0.0674, 0.0000, 0.0263, 0.0000, 0.0000,\n",
       "         0.0313],\n",
       "        [0.0000, 0.0000, 0.0000, 0.0211, 0.0853, 0.0000, 0.0239, 0.0175, 0.0035,\n",
       "         0.0104],\n",
       "        [0.0000, 0.0000, 0.0000, 0.0447, 0.0397, 0.0000, 0.0421, 0.0222, 0.0000,\n",
       "         0.0321],\n",
       "        [0.0000, 0.0000, 0.0217, 0.0391, 0.0446, 0.0000, 0.0187, 0.0107, 0.0329,\n",
       "         0.0000],\n",
       "        [0.0000, 0.0000, 0.0325, 0.0679, 0.0918, 0.0000, 0.0655, 0.0000, 0.0208,\n",
       "         0.0068],\n",
       "        [0.0000, 0.0000, 0.0000, 0.0162, 0.0981, 0.0000, 0.0000, 0.0000, 0.0000,\n",
       "         0.0504],\n",
       "        [0.0000, 0.0000, 0.0000, 0.0920, 0.1113, 0.0000, 0.0186, 0.0050, 0.0000,\n",
       "         0.0516],\n",
       "        [0.0000, 0.0000, 0.0206, 0.0939, 0.0875, 0.0000, 0.0032, 0.0000, 0.0436,\n",
       "         0.0654],\n",
       "        [0.0000, 0.0000, 0.0000, 0.0642, 0.1384, 0.0000, 0.0217, 0.0000, 0.0000,\n",
       "         0.0147],\n",
       "        [0.0000, 0.0000, 0.0000, 0.1038, 0.0542, 0.0000, 0.0146, 0.0000, 0.0000,\n",
       "         0.0000],\n",
       "        [0.0000, 0.0000, 0.0000, 0.0532, 0.1071, 0.0000, 0.0822, 0.0000, 0.0000,\n",
       "         0.0706],\n",
       "        [0.0000, 0.0000, 0.0383, 0.0484, 0.0466, 0.0000, 0.0173, 0.0111, 0.0000,\n",
       "         0.0699],\n",
       "        [0.0000, 0.0000, 0.0000, 0.0310, 0.0824, 0.0178, 0.0000, 0.0000, 0.0340,\n",
       "         0.0000],\n",
       "        [0.0000, 0.0000, 0.0000, 0.0130, 0.0166, 0.0000, 0.0347, 0.0000, 0.0000,\n",
       "         0.0000],\n",
       "        [0.0000, 0.0000, 0.0123, 0.0713, 0.0394, 0.0000, 0.0000, 0.0000, 0.0891,\n",
       "         0.0879],\n",
       "        [0.0000, 0.0000, 0.0000, 0.0177, 0.0629, 0.0000, 0.0667, 0.0000, 0.0000,\n",
       "         0.0919],\n",
       "        [0.0000, 0.0000, 0.0269, 0.0470, 0.0877, 0.0000, 0.0006, 0.0000, 0.0000,\n",
       "         0.0368],\n",
       "        [0.0000, 0.0000, 0.0710, 0.1181, 0.0771, 0.0016, 0.0000, 0.0000, 0.0399,\n",
       "         0.0286],\n",
       "        [0.0000, 0.0000, 0.0000, 0.0717, 0.0532, 0.0000, 0.0251, 0.0000, 0.0000,\n",
       "         0.0000],\n",
       "        [0.0000, 0.0000, 0.0000, 0.0059, 0.0343, 0.0000, 0.0694, 0.0303, 0.0000,\n",
       "         0.0770],\n",
       "        [0.0000, 0.0000, 0.0275, 0.0709, 0.1135, 0.0000, 0.0000, 0.0000, 0.0327,\n",
       "         0.0332],\n",
       "        [0.0015, 0.0000, 0.0078, 0.0374, 0.0950, 0.0000, 0.0642, 0.0000, 0.0224,\n",
       "         0.0498],\n",
       "        [0.0000, 0.0000, 0.0000, 0.0223, 0.0438, 0.0000, 0.0192, 0.0000, 0.0157,\n",
       "         0.0877],\n",
       "        [0.0000, 0.0000, 0.0000, 0.0603, 0.0389, 0.0000, 0.0000, 0.0000, 0.0000,\n",
       "         0.0000],\n",
       "        [0.0000, 0.0000, 0.0169, 0.1108, 0.0000, 0.0403, 0.0000, 0.0000, 0.0000,\n",
       "         0.0835],\n",
       "        [0.0000, 0.0000, 0.0000, 0.0391, 0.0786, 0.0000, 0.0097, 0.0000, 0.0000,\n",
       "         0.0589],\n",
       "        [0.0000, 0.0000, 0.0033, 0.0783, 0.0991, 0.0000, 0.0216, 0.0000, 0.0000,\n",
       "         0.0507],\n",
       "        [0.0000, 0.0000, 0.0233, 0.0857, 0.0389, 0.0000, 0.0000, 0.0000, 0.0000,\n",
       "         0.0388],\n",
       "        [0.0000, 0.0000, 0.0000, 0.1151, 0.0329, 0.0000, 0.0071, 0.0000, 0.0000,\n",
       "         0.1159],\n",
       "        [0.0000, 0.0000, 0.0180, 0.0000, 0.1021, 0.0000, 0.0364, 0.0276, 0.0000,\n",
       "         0.0006],\n",
       "        [0.0000, 0.0000, 0.0184, 0.0362, 0.0316, 0.0000, 0.0000, 0.0000, 0.0121,\n",
       "         0.0400],\n",
       "        [0.0000, 0.0000, 0.0000, 0.0276, 0.0823, 0.0000, 0.0804, 0.0000, 0.0000,\n",
       "         0.0288],\n",
       "        [0.0000, 0.0000, 0.0000, 0.0638, 0.0093, 0.0000, 0.0000, 0.0000, 0.0060,\n",
       "         0.1123],\n",
       "        [0.0136, 0.0000, 0.0385, 0.0278, 0.0930, 0.0000, 0.0000, 0.0000, 0.0248,\n",
       "         0.0115],\n",
       "        [0.0000, 0.0000, 0.0072, 0.0263, 0.0728, 0.0000, 0.0000, 0.0878, 0.0000,\n",
       "         0.0341],\n",
       "        [0.0000, 0.0000, 0.0000, 0.0000, 0.1415, 0.0000, 0.0000, 0.0000, 0.0000,\n",
       "         0.0119],\n",
       "        [0.0000, 0.0000, 0.0313, 0.0000, 0.0952, 0.0000, 0.0132, 0.0000, 0.0000,\n",
       "         0.0000],\n",
       "        [0.0000, 0.0000, 0.0000, 0.0000, 0.1101, 0.0000, 0.0000, 0.0697, 0.0000,\n",
       "         0.0000],\n",
       "        [0.0000, 0.0000, 0.0000, 0.0138, 0.0000, 0.0000, 0.0324, 0.0194, 0.0000,\n",
       "         0.0529],\n",
       "        [0.0000, 0.0000, 0.0000, 0.0499, 0.1011, 0.0000, 0.0129, 0.0000, 0.0000,\n",
       "         0.0412],\n",
       "        [0.0000, 0.0000, 0.0334, 0.0297, 0.0782, 0.0000, 0.0000, 0.0000, 0.0000,\n",
       "         0.0000],\n",
       "        [0.0000, 0.0000, 0.1160, 0.1101, 0.1500, 0.0141, 0.0000, 0.0000, 0.0000,\n",
       "         0.1043],\n",
       "        [0.0006, 0.0000, 0.0151, 0.0446, 0.1127, 0.0000, 0.0000, 0.0084, 0.0000,\n",
       "         0.0295],\n",
       "        [0.0000, 0.0000, 0.0403, 0.0462, 0.0943, 0.0000, 0.0000, 0.0270, 0.0171,\n",
       "         0.0083],\n",
       "        [0.0000, 0.0000, 0.0342, 0.0310, 0.0939, 0.0000, 0.0778, 0.0000, 0.0000,\n",
       "         0.0450],\n",
       "        [0.0000, 0.0000, 0.0120, 0.0420, 0.0460, 0.0000, 0.0120, 0.0000, 0.0000,\n",
       "         0.0034],\n",
       "        [0.0000, 0.0000, 0.0016, 0.0000, 0.0547, 0.0000, 0.0000, 0.0000, 0.0109,\n",
       "         0.0000],\n",
       "        [0.0000, 0.0000, 0.0420, 0.0135, 0.1216, 0.0000, 0.0000, 0.0000, 0.0690,\n",
       "         0.0476],\n",
       "        [0.0000, 0.0000, 0.0753, 0.0674, 0.1051, 0.0000, 0.0000, 0.0000, 0.0000,\n",
       "         0.0839],\n",
       "        [0.0000, 0.0000, 0.0404, 0.0488, 0.0275, 0.0000, 0.0139, 0.0000, 0.0000,\n",
       "         0.0411],\n",
       "        [0.0000, 0.0000, 0.0000, 0.1109, 0.1267, 0.0000, 0.1430, 0.0000, 0.0000,\n",
       "         0.0816],\n",
       "        [0.0000, 0.0000, 0.0800, 0.1392, 0.0943, 0.0000, 0.0000, 0.0000, 0.0000,\n",
       "         0.0114],\n",
       "        [0.0000, 0.0000, 0.0884, 0.0053, 0.1172, 0.0000, 0.0000, 0.0000, 0.0000,\n",
       "         0.0338],\n",
       "        [0.0000, 0.0000, 0.0005, 0.0324, 0.1014, 0.0000, 0.0713, 0.0256, 0.0000,\n",
       "         0.0408],\n",
       "        [0.0000, 0.0000, 0.0000, 0.0280, 0.0361, 0.0000, 0.0452, 0.0293, 0.0000,\n",
       "         0.0000],\n",
       "        [0.0000, 0.0000, 0.0205, 0.0000, 0.0860, 0.0000, 0.0000, 0.0191, 0.0000,\n",
       "         0.0160],\n",
       "        [0.0000, 0.0000, 0.0000, 0.0562, 0.0389, 0.0000, 0.0000, 0.0000, 0.0000,\n",
       "         0.0144],\n",
       "        [0.0000, 0.0000, 0.0000, 0.0439, 0.0829, 0.0000, 0.0359, 0.0000, 0.0000,\n",
       "         0.0000],\n",
       "        [0.0000, 0.0000, 0.0468, 0.1057, 0.0748, 0.0000, 0.0000, 0.0000, 0.0640,\n",
       "         0.1331],\n",
       "        [0.0484, 0.0000, 0.0000, 0.0314, 0.1045, 0.0000, 0.0000, 0.0000, 0.0592,\n",
       "         0.0000],\n",
       "        [0.0000, 0.0000, 0.0059, 0.0702, 0.0347, 0.0000, 0.0000, 0.0000, 0.0122,\n",
       "         0.0617],\n",
       "        [0.0443, 0.0000, 0.0000, 0.0335, 0.1585, 0.0000, 0.0067, 0.0136, 0.0185,\n",
       "         0.0000],\n",
       "        [0.0000, 0.0000, 0.0605, 0.0305, 0.0603, 0.0000, 0.0000, 0.0000, 0.0000,\n",
       "         0.0283]], grad_fn=<ReluBackward0>)"
      ]
     },
     "execution_count": 222,
     "metadata": {},
     "output_type": "execute_result"
    }
   ],
   "source": [
    "# 한 장으로 cnn 돌리기\n",
    "cnn(sample_image)"
   ]
  },
  {
   "cell_type": "markdown",
   "metadata": {},
   "source": [
    "### Initialize anchor image explainer"
   ]
  },
  {
   "cell_type": "code",
   "execution_count": 206,
   "metadata": {},
   "outputs": [
    {
     "data": {
      "text/plain": [
       "torch.Size([64, 1, 28, 28])"
      ]
     },
     "execution_count": 206,
     "metadata": {},
     "output_type": "execute_result"
    }
   ],
   "source": [
    "sample_image.shape"
   ]
  },
  {
   "cell_type": "code",
   "execution_count": 217,
   "metadata": {},
   "outputs": [
    {
     "data": {
      "text/plain": [
       "torch.Size([1, 28, 28])"
      ]
     },
     "execution_count": 217,
     "metadata": {},
     "output_type": "execute_result"
    }
   ],
   "source": [
    "image_shape"
   ]
  },
  {
   "cell_type": "code",
   "execution_count": null,
   "metadata": {},
   "outputs": [],
   "source": [
    "image_shape = sample_image.shape[1:]\n",
    "explainer = AnchorImage(predict_fn, image_shape, segmentation_fn=superpixel)"
   ]
  },
  {
   "cell_type": "markdown",
   "metadata": {},
   "source": [
    "### Explain a prediction\n",
    "\n",
    "The explanation returns a mask with the superpixels that constitute the anchor.\n",
    "\n",
    "Image to be explained:"
   ]
  },
  {
   "cell_type": "code",
   "execution_count": 226,
   "metadata": {},
   "outputs": [],
   "source": [
    "images, label = next(iter(test_loader))\n",
    "test_images = images"
   ]
  },
  {
   "cell_type": "code",
   "execution_count": 230,
   "metadata": {},
   "outputs": [
    {
     "data": {
      "text/plain": [
       "torch.Size([1, 28, 28])"
      ]
     },
     "execution_count": 230,
     "metadata": {},
     "output_type": "execute_result"
    }
   ],
   "source": [
    "test_images[i].shape"
   ]
  },
  {
   "cell_type": "code",
   "execution_count": 235,
   "metadata": {},
   "outputs": [
    {
     "data": {
      "image/png": "[encoded data removed]",
      "text/plain": [
       "<Figure size 432x288 with 1 Axes>"
      ]
     },
     "metadata": {
      "needs_background": "light"
     },
     "output_type": "display_data"
    }
   ],
   "source": [
    "i = 1\n",
    "image = test_images[i]\n",
    "image = image.view(28, 28, -1)\n",
    "plt.imshow(image[:,:,0]);"
   ]
  },
  {
   "cell_type": "markdown",
   "metadata": {},
   "source": [
    "Model prediction:"
   ]
  },
  {
   "cell_type": "code",
   "execution_count": 239,
   "metadata": {},
   "outputs": [
    {
     "name": "stdout",
     "output_type": "stream",
     "text": [
      "torch.Size([1, 1, 28, 28])\n"
     ]
    },
    {
     "data": {
      "text/plain": [
       "tensor(4)"
      ]
     },
     "execution_count": 239,
     "metadata": {},
     "output_type": "execute_result"
    }
   ],
   "source": [
    "cnn(image.reshape(1, 1, 28, 28)).argmax()"
   ]
  },
  {
   "cell_type": "markdown",
   "metadata": {},
   "source": [
    "The predicted category correctly corresponds to the class `Pullover`:\n",
    "\n",
    "| Label | Description |\n",
    "| --- | --- |\n",
    "| 0 | T-shirt/top |\n",
    "| 1 | Trouser |\n",
    "| 2 | Pullover |\n",
    "| 3 | Dress |\n",
    "| 4 | Coat |\n",
    "| 5 | Sandal |\n",
    "| 6 | Shirt |\n",
    "| 7 | Sneaker |\n",
    "| 8 | Bag |\n",
    "| 9 | Ankle boot |"
   ]
  },
  {
   "cell_type": "markdown",
   "metadata": {},
   "source": [
    "Generate explanation:"
   ]
  },
  {
   "cell_type": "code",
   "execution_count": null,
   "metadata": {},
   "outputs": [],
   "source": [
    "explanation = explainer.explain(image, threshold=.95, p_sample=.8, seed=0)"
   ]
  },
  {
   "cell_type": "markdown",
   "metadata": {},
   "source": [
    "Show anchor:"
   ]
  },
  {
   "cell_type": "code",
   "execution_count": null,
   "metadata": {},
   "outputs": [],
   "source": [
    "plt.imshow(explanation.anchor[:,:,0]);"
   ]
  },
  {
   "cell_type": "markdown",
   "metadata": {},
   "source": [
    "From the example, it looks like the end of the sleeve alone is sufficient to predict a pullover."
   ]
  }
 ],
 "metadata": {
  "kernelspec": {
   "display_name": "venv-py3.7.3",
   "language": "python",
   "name": "venv"
  },
  "language_info": {
   "codemirror_mode": {
    "name": "ipython",
    "version": 3
   },
   "file_extension": ".py",
   "mimetype": "text/x-python",
   "name": "python",
   "nbconvert_exporter": "python",
   "pygments_lexer": "ipython3",
   "version": "3.7.3"
  }
 },
 "nbformat": 4,
 "nbformat_minor": 2
}
